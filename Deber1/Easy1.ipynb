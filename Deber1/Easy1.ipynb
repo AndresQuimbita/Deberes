{
 "cells": [
  {
   "cell_type": "markdown",
   "metadata": {},
   "source": [
    "TO SOLVE THIS PROBLEM WE USE THE TABLE THAT PICOCTF GIVE US."
   ]
  },
  {
   "cell_type": "markdown",
   "metadata": {},
   "source": [
    "![Alt text](image.png)"
   ]
  },
  {
   "cell_type": "markdown",
   "metadata": {},
   "source": [
    "wITH THE TABLE USE THE KEY *SOLVERCRYTO* TO SEARCH THE LETTER OF THE ENCODED FLAG TO THE CODE THE MESSAGE.\n",
    "\n",
    "THE PROCESS GIVE US:"
   ]
  },
  {
   "cell_type": "markdown",
   "metadata": {},
   "source": [
    "![Alt text](image-1.png)"
   ]
  },
  {
   "cell_type": "markdown",
   "metadata": {},
   "source": [
    "**(S, U)-> C**\n",
    "\n",
    "**(O, F)-> R**\n",
    "\n",
    "**(L, J)-> Y**\n",
    "\n",
    "**(V, K)-> P**\n",
    "\n",
    "**(E, X)-> T**\n",
    "\n",
    "**(C, Q)-> O**\n",
    "\n",
    "**(R, Z)-> I**\n",
    "\n",
    "**(Y, Q)-> S**\n",
    "\n",
    "**(P, U)-> F**\n",
    "\n",
    "**(T, N)-> U**\n",
    "\n",
    "**(O, B)-> N**"
   ]
  },
  {
   "cell_type": "markdown",
   "metadata": {},
   "source": [
    "THE FLAG IS: 'CRYPTO IS FUN'"
   ]
  },
  {
   "cell_type": "markdown",
   "metadata": {},
   "source": []
  }
 ],
 "metadata": {
  "language_info": {
   "name": "python"
  },
  "orig_nbformat": 4
 },
 "nbformat": 4,
 "nbformat_minor": 2
}
