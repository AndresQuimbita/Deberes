{
 "cells": [
  {
   "cell_type": "code",
   "execution_count": 2,
   "metadata": {},
   "outputs": [
    {
     "name": "stdout",
     "output_type": "stream",
     "text": [
      "Mensaje cifrado: picoCTF not_too_bad_of_a_problem\n"
     ]
    }
   ],
   "source": [
    "def rot13(texto):\n",
    "    resultado = []\n",
    "    for char in texto:\n",
    "        if 'a' <= char <= 'z':\n",
    "            offset = ord('a')\n",
    "            resultado.append(chr(((ord(char) - offset + 13) % 26) + offset))\n",
    "        elif 'A' <= char <= 'Z':\n",
    "            offset = ord('A')\n",
    "            resultado.append(chr(((ord(char) - offset + 13) % 26) + offset))\n",
    "        else:\n",
    "            resultado.append(char)\n",
    "    return ''.join(resultado)\n",
    "\n",
    "# Ejemplo de uso:\n",
    "mensaje = \"Cryptography can be easy with ROT13!\"\n",
    "mensaje_cifrado = rot13(\"cvpbPGS abg_gbb_onq_bs_n_ceboyrz\")\n",
    "print(\"Mensaje cifrado:\", mensaje_cifrado)\n",
    "\n"
   ]
  },
  {
   "cell_type": "code",
   "execution_count": null,
   "metadata": {},
   "outputs": [],
   "source": []
  }
 ],
 "metadata": {
  "kernelspec": {
   "display_name": "Python 3",
   "language": "python",
   "name": "python3"
  },
  "language_info": {
   "codemirror_mode": {
    "name": "ipython",
    "version": 3
   },
   "file_extension": ".py",
   "mimetype": "text/x-python",
   "name": "python",
   "nbconvert_exporter": "python",
   "pygments_lexer": "ipython3",
   "version": "3.10.5"
  },
  "orig_nbformat": 4
 },
 "nbformat": 4,
 "nbformat_minor": 2
}
