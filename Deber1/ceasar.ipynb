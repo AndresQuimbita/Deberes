{
 "cells": [
  {
   "cell_type": "code",
   "execution_count": 3,
   "metadata": {},
   "outputs": [
    {
     "name": "stdout",
     "output_type": "stream",
     "text": [
      "Desplazamiento 0: dspttjohuifsvcjdpoabrkttds\n",
      "Desplazamiento 1: crossingtherubiconzaqjsscr\n",
      "Desplazamiento 2: bqnrrhmfsgdqtahbnmyzpirrbq\n",
      "Desplazamiento 3: apmqqglerfcpszgamlxyohqqap\n",
      "Desplazamiento 4: zolppfkdqeboryfzlkwxngppzo\n",
      "Desplazamiento 5: ynkooejcpdanqxeykjvwmfooyn\n",
      "Desplazamiento 6: xmjnndiboczmpwdxjiuvlennxm\n",
      "Desplazamiento 7: wlimmchanbylovcwihtukdmmwl\n",
      "Desplazamiento 8: vkhllbgzmaxknubvhgstjcllvk\n",
      "Desplazamiento 9: ujgkkafylzwjmtaugfrsibkkuj\n",
      "Desplazamiento 10: tifjjzexkyvilsztfeqrhajjti\n",
      "Desplazamiento 11: sheiiydwjxuhkrysedpqgziish\n",
      "Desplazamiento 12: rgdhhxcviwtgjqxrdcopfyhhrg\n",
      "Desplazamiento 13: qfcggwbuhvsfipwqcbnoexggqf\n",
      "Desplazamiento 14: pebffvatgurehovpbamndwffpe\n",
      "Desplazamiento 15: odaeeuzsftqdgnuoazlmcveeod\n",
      "Desplazamiento 16: nczddtyrespcfmtnzyklbuddnc\n",
      "Desplazamiento 17: mbyccsxqdrobelsmyxjkatccmb\n",
      "Desplazamiento 18: laxbbrwpcqnadkrlxwijzsbbla\n",
      "Desplazamiento 19: kzwaaqvobpmzcjqkwvhiyraakz\n",
      "Desplazamiento 20: jyvzzpunaolybipjvughxqzzjy\n",
      "Desplazamiento 21: ixuyyotmznkxahoiutfgwpyyix\n",
      "Desplazamiento 22: hwtxxnslymjwzgnhtsefvoxxhw\n",
      "Desplazamiento 23: gvswwmrkxlivyfmgsrdeunwwgv\n",
      "Desplazamiento 24: furvvlqjwkhuxelfrqcdtmvvfu\n",
      "Desplazamiento 25: etquukpivjgtwdkeqpbcsluuet\n"
     ]
    }
   ],
   "source": [
    "def cesar_descifrar(texto_cifrado, desplazamiento):\n",
    "    resultado = []\n",
    "\n",
    "    for char in texto_cifrado:\n",
    "        if char.isalpha():\n",
    "            if char.isupper():\n",
    "                offset = ord('A')\n",
    "            else:\n",
    "                offset = ord('a')\n",
    "\n",
    "            descifrado_char = chr(((ord(char) - offset - desplazamiento) % 26) + offset)\n",
    "            resultado.append(descifrado_char)\n",
    "        else:\n",
    "            resultado.append(char)\n",
    "\n",
    "    return ''.join(resultado)\n",
    "\n",
    "texto_cifrado = \"dspttjohuifsvcjdpoabrkttds\"\n",
    "\n",
    "# Realiza un bucle para probar todos los posibles desplazamientos (0 a 25)\n",
    "for desplazamiento in range(26):\n",
    "    texto_descifrado = cesar_descifrar(texto_cifrado, desplazamiento)\n",
    "    print(f\"Desplazamiento {desplazamiento}: {texto_descifrado}\")\n"
   ]
  },
  {
   "cell_type": "code",
   "execution_count": null,
   "metadata": {},
   "outputs": [],
   "source": []
  }
 ],
 "metadata": {
  "kernelspec": {
   "display_name": "Python 3",
   "language": "python",
   "name": "python3"
  },
  "language_info": {
   "codemirror_mode": {
    "name": "ipython",
    "version": 3
   },
   "file_extension": ".py",
   "mimetype": "text/x-python",
   "name": "python",
   "nbconvert_exporter": "python",
   "pygments_lexer": "ipython3",
   "version": "3.10.5"
  },
  "orig_nbformat": 4
 },
 "nbformat": 4,
 "nbformat_minor": 2
}
