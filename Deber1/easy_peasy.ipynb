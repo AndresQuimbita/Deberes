{
 "cells": [
  {
   "cell_type": "code",
   "execution_count": 2,
   "metadata": {},
   "outputs": [
    {
     "name": "stdout",
     "output_type": "stream",
     "text": [
      "******************Welcome to our OTP implementation!******************\n",
      "This is the encrypted flag!\n",
      "1a065319\n",
      "\n"
     ]
    }
   ],
   "source": [
    "#!/usr/bin/python3 -u\n",
    "import os.path\n",
    "\n",
    "KEY_FILE = \"key\"\n",
    "KEY_LEN = 50000\n",
    "FLAG_FILE = \"flag\"\n",
    "\n",
    "\n",
    "def startup(key_location):\n",
    "\tflag = open(FLAG_FILE).read()\n",
    "\tkf = open(KEY_FILE, \"rb\").read()\n",
    "\n",
    "\tstart = key_location\n",
    "\tstop = key_location + len(flag)\n",
    "\n",
    "\tkey = kf[start:stop]\n",
    "\tkey_location = stop\n",
    "\n",
    "\tresult = list(map(lambda p, k: \"{:02x}\".format(ord(p) ^ k), flag, key))\n",
    "\tprint(\"This is the encrypted flag!\\n{}\\n\".format(\"\".join(result)))\n",
    "\n",
    "\treturn key_location\n",
    "\n",
    "def encrypt(key_location):\n",
    "\tui = input(\"What data would you like to encrypt? \").rstrip()\n",
    "\tif len(ui) == 0 or len(ui) > KEY_LEN:\n",
    "\t\treturn -1\n",
    "\n",
    "\tstart = key_location\n",
    "\tstop = key_location + len(ui)\n",
    "\n",
    "\tkf = open(KEY_FILE, \"rb\").read()\n",
    "\n",
    "\tif stop >= KEY_LEN:\n",
    "\t\tstop = stop % KEY_LEN\n",
    "\t\tkey = kf[start:] + kf[:stop]\n",
    "\telse:\n",
    "\t\tkey = kf[start:stop]\n",
    "\tkey_location = stop\n",
    "\n",
    "\tresult = list(map(lambda p, k: \"{:02x}\".format(ord(p) ^ k), ui, key))\n",
    "\n",
    "\tprint(\"Here ya go!\\n{}\\n\".format(\"\".join(result)))\n",
    "\n",
    "\treturn key_location\n",
    "\n",
    "\n",
    "print(\"******************Welcome to our OTP implementation!******************\")\n",
    "c = startup(0)\n",
    "while c >= 0:\n",
    "\tc = encrypt(c)\n"
   ]
  },
  {
   "cell_type": "code",
   "execution_count": null,
   "metadata": {},
   "outputs": [
    {
     "data": {
      "text/plain": [
       "64"
      ]
     },
     "execution_count": 1,
     "metadata": {},
     "output_type": "execute_result"
    }
   ],
   "source": [
    "len(\"50005f3d1903553d1958560a543436333d1902513d1903503d1905553d195055\")"
   ]
  },
  {
   "cell_type": "code",
   "execution_count": 3,
   "metadata": {},
   "outputs": [
    {
     "name": "stdout",
     "output_type": "stream",
     "text": [
      "b'AAAAAAAAAAAAAAAAAAAAAAAAAAAAAAAA'\n",
      "7f9da29f40499a98db220380a57746a4\n"
     ]
    }
   ],
   "source": [
    "from pwn import *\n",
    "enc_flag = bytes.fromhex(\"5541103a246e415e036c4c5f0e3d415a513e4a560050644859536b4f57003d4c\")\n",
    "enc_text = bytes.fromhex(\"2366681f041d3979761d3927761d3923741d392571221d3979271d3922771d39\")\n",
    "dec_text = b'A'*32\n",
    "print(dec_text)\n",
    "key = xor(enc_text, dec_text)\n",
    "\n",
    "print(xor(enc_flag, key).decode())\n"
   ]
  },
  {
   "cell_type": "code",
   "execution_count": null,
   "metadata": {},
   "outputs": [],
   "source": []
  }
 ],
 "metadata": {
  "kernelspec": {
   "display_name": "Python 3",
   "language": "python",
   "name": "python3"
  },
  "language_info": {
   "codemirror_mode": {
    "name": "ipython",
    "version": 3
   },
   "file_extension": ".py",
   "mimetype": "text/x-python",
   "name": "python",
   "nbconvert_exporter": "python",
   "pygments_lexer": "ipython3",
   "version": "3.8.8"
  },
  "orig_nbformat": 4
 },
 "nbformat": 4,
 "nbformat_minor": 2
}
