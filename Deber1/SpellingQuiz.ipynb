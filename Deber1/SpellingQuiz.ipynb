{
 "cells": [
  {
   "cell_type": "markdown",
   "metadata": {},
   "source": [
    "**TRY OF SUSTITUTION CIPHER FOR SPELLING QUIZ EXCERCISE**\n",
    "\n",
    "THIS PROBLEM WAS DIFFICULT FOR ME TO SOLVE USING AN OWN CODE, BUT I CAN IDENTIFY THAT THE PROBLEM COULD SOLVED WITH A SUSTITUTION CIPHER, FOR THIS REASON WE USE THE TOOL.\n",
    "\n",
    "FLAG = brcfxba_vfr_mid_hosbrm_iprc_exa_hoav_vwcrm\n",
    "\n",
    "ANSWER = perhaps the dog jumped over was just tired\n",
    "\n",
    "WE TRY TY \n",
    "*SOLVED WITH THE FOLLOWING LINK*\n",
    "\n",
    "https://www.boxentriq.com/code-breaking/cryptogram"
   ]
  },
  {
   "cell_type": "markdown",
   "metadata": {},
   "source": [
    "wE GIVE THE STUDY-GUIDE.TXT TO THE TOOL AND USE THE AUTO SOLVE"
   ]
  },
  {
   "cell_type": "markdown",
   "metadata": {},
   "source": [
    "![Alt text](spell.png)"
   ]
  },
  {
   "cell_type": "markdown",
   "metadata": {},
   "source": [
    "THE WE SEE THE ITERATION THAT THE TOOL GIVE SU AND SEE WHAT ANSWER IS THE MOST LOGIC"
   ]
  },
  {
   "cell_type": "markdown",
   "metadata": {},
   "source": [
    "![Alt text](sol.png)"
   ]
  },
  {
   "cell_type": "markdown",
   "metadata": {},
   "source": [
    "WITH THIS WE HAVE THE FLAG.\n",
    "\n",
    "***FLAG = perhaps the dog jumped over was just tired***"
   ]
  },
  {
   "cell_type": "markdown",
   "metadata": {},
   "source": [
    "*WE TRY TO SOLVE WITH CODE*"
   ]
  },
  {
   "cell_type": "code",
   "execution_count": null,
   "metadata": {},
   "outputs": [
    {
     "data": {
      "text/plain": [
       "{'g': 17173,\n",
       " 'y': 107082,\n",
       " 'i': 205401,\n",
       " 'm': 131465,\n",
       " 'd': 76513,\n",
       " 'z': 270080,\n",
       " 'c': 216936,\n",
       " 'b': 311363,\n",
       " 'j': 87009,\n",
       " 'h': 239284,\n",
       " 'u': 162351,\n",
       " 'e': 30493,\n",
       " 'a': 206355,\n",
       " 'w': 214772,\n",
       " 'p': 66435,\n",
       " 'q': 198197,\n",
       " 'k': 49432,\n",
       " 'f': 96529,\n",
       " 'r': 57699,\n",
       " 't': 90628,\n",
       " 'n': 27458,\n",
       " 'l': 11862,\n",
       " 'x': 14940,\n",
       " 's': 8354,\n",
       " 'v': 4794,\n",
       " 'o': 3251}"
      ]
     },
     "metadata": {},
     "output_type": "display_data"
    }
   ],
   "source": [
    "import os\n",
    "text = './study-guide.txt'\n",
    "\n",
    "words = {}\n",
    "\n",
    "with open(text, 'r') as f:\n",
    "    for line in f:\n",
    "        code = [x for x in line if x.isalpha()]\n",
    "        for i in code:\n",
    "            if i in words:\n",
    "                words[i] += 1\n",
    "            else:\n",
    "                words[i] = 1\n",
    "words"
   ]
  },
  {
   "cell_type": "code",
   "execution_count": null,
   "metadata": {},
   "outputs": [],
   "source": [
    "sorted_dic = sorted(words.items(), key=lambda x: x[1], reverse=True)"
   ]
  },
  {
   "cell_type": "code",
   "execution_count": null,
   "metadata": {},
   "outputs": [
    {
     "data": {
      "text/plain": [
       "[('b', 311363),\n",
       " ('z', 270080),\n",
       " ('h', 239284),\n",
       " ('c', 216936),\n",
       " ('w', 214772),\n",
       " ('a', 206355),\n",
       " ('i', 205401),\n",
       " ('q', 198197),\n",
       " ('u', 162351),\n",
       " ('m', 131465),\n",
       " ('y', 107082),\n",
       " ('f', 96529),\n",
       " ('t', 90628),\n",
       " ('j', 87009),\n",
       " ('d', 76513),\n",
       " ('p', 66435),\n",
       " ('r', 57699),\n",
       " ('k', 49432),\n",
       " ('e', 30493),\n",
       " ('n', 27458),\n",
       " ('g', 17173),\n",
       " ('x', 14940),\n",
       " ('l', 11862),\n",
       " ('s', 8354),\n",
       " ('v', 4794),\n",
       " ('o', 3251)]"
      ]
     },
     "metadata": {},
     "output_type": "display_data"
    }
   ],
   "source": [
    "sorted_dic"
   ]
  },
  {
   "cell_type": "code",
   "execution_count": null,
   "metadata": {},
   "outputs": [
    {
     "name": "stdout",
     "output_type": "stream",
     "text": [
      "Texto Original: greenheart\n",
      "Texto Cifrado: zkxxgaxtkm\n"
     ]
    }
   ],
   "source": [
    "#THIS DOES NOT WORK LIKE WE WANT IT TO, THE ENCODED TEXT DOESNT MATCH WITH THE ENCODED IN THE STUDY GUIDE\n",
    "def lshift_cipher(texto, desplazamiento):\n",
    "    texto_cifrado = \"\"\n",
    "\n",
    "    for letra in texto:\n",
    "        if letra.isalpha():  # Comprobar si es una letra\n",
    "            if letra.islower():\n",
    "                # Si es minúscula, aplicar el desplazamiento hacia la izquierda\n",
    "                nueva_letra = chr(((ord(letra) - ord('a') - desplazamiento) % 26) + ord('a'))\n",
    "            elif letra.isupper():\n",
    "                # Si es mayúscula, aplicar el desplazamiento hacia la izquierda\n",
    "                nueva_letra = chr(((ord(letra) - ord('A') - desplazamiento) % 26) + ord('A'))\n",
    "        else:\n",
    "            # Mantener caracteres no alfabéticos sin cambios\n",
    "            nueva_letra = letra\n",
    "\n",
    "        texto_cifrado += nueva_letra\n",
    "\n",
    "    return texto_cifrado\n",
    "\n",
    "# Ejemplo de uso\n",
    "texto_original = \"greenheart\"\n",
    "desplazamiento = 7\n",
    "texto_cifrado = lshift_cipher(texto_original, desplazamiento)\n",
    "\n",
    "print(\"Texto Original:\", texto_original)\n",
    "print(\"Texto Cifrado:\", texto_cifrado)\n"
   ]
  },
  {
   "cell_type": "code",
   "execution_count": null,
   "metadata": {},
   "outputs": [],
   "source": []
  }
 ],
 "metadata": {
  "language_info": {
   "name": "python"
  },
  "orig_nbformat": 4
 },
 "nbformat": 4,
 "nbformat_minor": 2
}
