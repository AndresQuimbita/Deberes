{
 "cells": [
  {
   "cell_type": "code",
   "execution_count": 3,
   "metadata": {},
   "outputs": [],
   "source": [
    "def shift_cihper_encode(decode, key):\n",
    "    decode = decode.lower()\n",
    "    words = {'a': 0, 'b': 1, 'c': 2, 'd': 3, 'e': 4, 'f': 5, 'g':6, 'h':7, 'i':8, 'j':9, 'k':10, 'l':11, 'm':12, 'n': 13, 'o':14, 'p':15, 'q':16, 'r':17, 's':18, 't':19, 'u': 20, 'v':21, 'w':22, 'x':23, 'y':24, 'z':25}\n",
    "    \n",
    "    arr_char = list(decode)\n",
    "    encode_arr = []\n",
    "    for i in arr_char:\n",
    "        if i in words:\n",
    "            arr_char[arr_char.index(i)] = words[i]\n",
    "            x = (words[i] + key) % 26\n",
    "            encode_arr.append(list(words.keys())[list(words.values()).index(x)])\n",
    "    encode_string = ''.join(encode_arr)\n",
    "    encode_string = encode_string.upper()\n",
    "    return encode_string\n",
    "\n",
    "        "
   ]
  },
  {
   "cell_type": "code",
   "execution_count": 4,
   "metadata": {},
   "outputs": [
    {
     "data": {
      "text/plain": [
       "'KHOOR'"
      ]
     },
     "execution_count": 4,
     "metadata": {},
     "output_type": "execute_result"
    }
   ],
   "source": [
    "shift_cihper_encode('HELLO', 3)"
   ]
  },
  {
   "cell_type": "code",
   "execution_count": 3,
   "metadata": {},
   "outputs": [
    {
     "data": {
      "text/plain": [
       "'btwqi'"
      ]
     },
     "execution_count": 3,
     "metadata": {},
     "output_type": "execute_result"
    }
   ],
   "source": [
    "shift_cihper_encode('WoRLD', 5)"
   ]
  },
  {
   "cell_type": "code",
   "execution_count": 2,
   "metadata": {},
   "outputs": [],
   "source": [
    "def shift_cihper_decode(encode, key):\n",
    "    encode = encode.lower()\n",
    "    words = {'a': 0, 'b': 1, 'c': 2, 'd': 3, 'e': 4, 'f': 5, 'g':6, 'h':7, 'i':8, 'j':9, 'k':10, 'l':11, 'm':12, 'n': 13, 'o':14, 'p':15, 'q':16, 'r':17, 's':18, 't':19, 'u': 20, 'v':21, 'w':22, 'x':23, 'y':24, 'z':25}\n",
    "    \n",
    "    arr_char = list(encode)\n",
    "    decode_arr = []\n",
    "    for i in arr_char:\n",
    "        if i in words:\n",
    "            arr_char[arr_char.index(i)] = words[i]\n",
    "            x = (words[i] - key) % 26\n",
    "            decode_arr.append(list(words.keys())[list(words.values()).index(x)])\n",
    "        else:\n",
    "            decode_arr.append(i)\n",
    "    print(decode_arr)\n",
    "    decode_string = ''.join(decode_arr)\n",
    "    return decode_string\n",
    "\n",
    "        "
   ]
  },
  {
   "cell_type": "code",
   "execution_count": 5,
   "metadata": {},
   "outputs": [
    {
     "name": "stdout",
     "output_type": "stream",
     "text": [
      "['p', 'i', 'c', 'o', 'c', 't', 'f', '{', 'n', 'e', 'x', 't', '_', 't', 'i', 'm', 'e', '_', 'i', \"'\", 'l', 'l', '_', 't', 'r', 'y', '_', '2', '_', 'r', 'o', 'u', 'n', 'd', 's', '_', 'o', 'f', '_', 'r', 'o', 't', '1', '3', '_', 'u', 'l', 'y', 'v', 'p', 'v', 'a', 'g', '}']\n"
     ]
    },
    {
     "data": {
      "text/plain": [
       "\"picoctf{next_time_i'll_try_2_rounds_of_rot13_ulyvpvag}\""
      ]
     },
     "execution_count": 5,
     "metadata": {},
     "output_type": "execute_result"
    }
   ],
   "source": [
    "shift_cihper_decode(\"cvpbPGS{arkg_gvzr_V'yy_gel_2_ebhaqf_bs_ebg13_hyLicInt}\", 13)"
   ]
  },
  {
   "cell_type": "code",
   "execution_count": 12,
   "metadata": {},
   "outputs": [
    {
     "name": "stdout",
     "output_type": "stream",
     "text": [
      "['c', 'r', 'o', 's', 's', 'i', 'n', 'g', 't', 'h', 'e', 'r', 'u', 'b', 'i', 'c', 'o', 'n', 'z', 'a', 'q', 'j', 's', 's', 'c', 'r']\n"
     ]
    },
    {
     "data": {
      "text/plain": [
       "'crossingtherubiconzaqjsscr'"
      ]
     },
     "execution_count": 12,
     "metadata": {},
     "output_type": "execute_result"
    }
   ],
   "source": [
    "shift_cihper_decode(\"dspttjohuifsvcjdpoabrkttds\", 1)"
   ]
  },
  {
   "cell_type": "code",
   "execution_count": 13,
   "metadata": {},
   "outputs": [
    {
     "name": "stdout",
     "output_type": "stream",
     "text": [
      "dspttjohuifsvcjdpoabrkttds\n",
      "crossingtherubiconzaqjsscr\n",
      "bqnrrhmfsgdqtahbnmyzpirrbq\n",
      "apmqqglerfcpszgamlxyohqqap\n",
      "zolppfkdqeboryfzlkwxngppzo\n",
      "ynkooejcpdanqxeykjvwmfooyn\n",
      "xmjnndiboczmpwdxjiuvlennxm\n",
      "wlimmchanbylovcwihtukdmmwl\n",
      "vkhllbgzmaxknubvhgstjcllvk\n",
      "ujgkkafylzwjmtaugfrsibkkuj\n",
      "tifjjzexkyvilsztfeqrhajjti\n",
      "sheiiydwjxuhkrysedpqgziish\n",
      "rgdhhxcviwtgjqxrdcopfyhhrg\n",
      "qfcggwbuhvsfipwqcbnoexggqf\n",
      "pebffvatgurehovpbamndwffpe\n",
      "odaeeuzsftqdgnuoazlmcveeod\n",
      "nczddtyrespcfmtnzyklbuddnc\n",
      "mbyccsxqdrobelsmyxjkatccmb\n",
      "laxbbrwpcqnadkrlxwijzsbbla\n",
      "kzwaaqvobpmzcjqkwvhiyraakz\n",
      "jyvzzpunaolybipjvughxqzzjy\n",
      "ixuyyotmznkxahoiutfgwpyyix\n",
      "hwtxxnslymjwzgnhtsefvoxxhw\n",
      "gvswwmrkxlivyfmgsrdeunwwgv\n",
      "furvvlqjwkhuxelfrqcdtmvvfu\n",
      "etquukpivjgtwdkeqpbcsluuet\n",
      "\n"
     ]
    }
   ],
   "source": [
    "alphabet=\"abcdefghijklmnopqrstuvwxyz\"\n",
    "\n",
    "encrypted_flag = \"dspttjohuifsvcjdpoabrkttds\"\n",
    "\n",
    "length_text = len(encrypted_flag)\n",
    "\n",
    "for j in range(26):\n",
    "\tfor i in range(length_text):\n",
    "\t\tprint(chr(((ord(encrypted_flag[i])-j)-97)%26+97), end='')\n",
    "\tprint()\t\n",
    "print()"
   ]
  },
  {
   "cell_type": "code",
   "execution_count": 32,
   "metadata": {},
   "outputs": [
    {
     "name": "stdout",
     "output_type": "stream",
     "text": [
      "['x', 'q', 'j', 'j', 'k', 'l', 'j', 'p', 'q', 'y']\n"
     ]
    },
    {
     "data": {
      "text/plain": [
       "'xqjjkljpqy'"
      ]
     },
     "execution_count": 32,
     "metadata": {},
     "output_type": "execute_result"
    }
   ],
   "source": [
    "shift_cihper_decode(\"pibbcdbhiq\", 18)"
   ]
  },
  {
   "cell_type": "code",
   "execution_count": null,
   "metadata": {},
   "outputs": [],
   "source": []
  }
 ],
 "metadata": {
  "kernelspec": {
   "display_name": "Python 3",
   "language": "python",
   "name": "python3"
  },
  "language_info": {
   "codemirror_mode": {
    "name": "ipython",
    "version": 3
   },
   "file_extension": ".py",
   "mimetype": "text/x-python",
   "name": "python",
   "nbconvert_exporter": "python",
   "pygments_lexer": "ipython3",
   "version": "3.10.5"
  },
  "orig_nbformat": 4
 },
 "nbformat": 4,
 "nbformat_minor": 2
}
