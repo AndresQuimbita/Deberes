{
 "cells": [
  {
   "cell_type": "code",
   "execution_count": 42,
   "metadata": {},
   "outputs": [
    {
     "name": "stdout",
     "output_type": "stream",
     "text": [
      "abcdefghijklmnop\n",
      "hcgfgegbgdhegfge\n",
      "igjfihkehhkeiikh\n"
     ]
    }
   ],
   "source": [
    "import string\n",
    "\n",
    "LOWERCASE_OFFSET = ord(\"a\")\n",
    "ALPHABET = string.ascii_lowercase[:16]\n",
    "\n",
    "def b16_encode(plain):\n",
    "\tenc = \"\"\n",
    "\tfor c in plain:\n",
    "\t\tbinary = \"{0:08b}\".format(ord(c))\n",
    "\t\tenc += ALPHABET[int(binary[:4], 2)]\n",
    "\t\tenc += ALPHABET[int(binary[4:], 2)]\n",
    "\treturn enc\n",
    "\n",
    "def shift(c, k):\n",
    "\tt1 = ord(c) - LOWERCASE_OFFSET\n",
    "\tt2 = ord(k) - LOWERCASE_OFFSET\n",
    "\treturn ALPHABET[(t1 + t2) % len(ALPHABET)]\n",
    "\n",
    "flag = \"redacted\"\n",
    "\n",
    "\n",
    "b16 = b16_encode(flag)\n",
    "print(b16)\n",
    "enc = \"\"\n",
    "for i, c in enumerate(b16):\n",
    "\tenc += shift(c, key[i % len(key)])\n",
    "print(enc)\n"
   ]
  },
  {
   "cell_type": "code",
   "execution_count": 43,
   "metadata": {},
   "outputs": [],
   "source": [
    "def b16_decode(encoded):\n",
    "    decoded = \"\"\n",
    "    for i in range(0, len(encoded),2):\n",
    "        binary = \"{0:04b}\".format(ALPHABET.index(encoded[i]))+\"{0:04b}\".format(ALPHABET.index(encoded[i+1]))\n",
    "        decoded += chr(int(binary, 2))\n",
    "        \n",
    "    return decoded\n"
   ]
  },
  {
   "cell_type": "code",
   "execution_count": 46,
   "metadata": {},
   "outputs": [
    {
     "name": "stdout",
     "output_type": "stream",
     "text": [
      "2\u0002\u000010\u000f?\u00051\u000f?\u0000\u000f\u0003\n",
      "b CR=RS\u001d=\u001e\u0015B\u0013A\u001e\u0016\u0017\u0010A\u001f\u0012\u0011\u0016B\u0010@\u0011\u0010\u0014\u001e\u001eC\u0016\u0011BA\u0010@\u001eC\u0013\n",
      "c TcNcd.N/&S$R/'(!R #\"'S!Q\"!%//T'\"SR!Q/T$\n",
      "d et_tu?_07d5c0892c1438d2b32600e83dc2b0e5\n",
      "e v`@`AHuFtAIJCtBEDIuCsDCGAAvIDutCsAvF\n",
      "f qQqRYWRZ[TSVUZTUTXRRZUTRW\n",
      "g §§¨bcjhckledgfkefeicckfech\n",
      "h ©¸¸¹st{¨y§t|}v§uxw|¨v¦wvztt©|w¨§v¦t©y\n",
      "i ºÉ¤ÉÊ¤¹¸¸¹·º¹¸·º\n",
      "j ËÚµÚÛµÊÉÉÊÈËÊÉÈË\n",
      "k ÜëÆëì¦Æ§®Û¬Ú§¯ ©Ú¨«ª¯Û©Ùª©­§§Ü¯ªÛÚ©Ù§Ü¬\n",
      "l íü×üý·×¸¿ì½ë¸°±ºë¹¼»°ìºê»º¾¸¸í°»ìëºê¸í½\n",
      "\u000eÈèÉÀýÎüÉÁÂËüÊÍÌÁýËûÌËÏÉÉþÁÌýüËûÉþÎ\n",
      "Ü\fÚ\u000fßÜ\fÝÜÐÚÚ\u000fÒÝ\u000e\n",
      "o \u0010/\n",
      "/ ê\n",
      "ëâ\u001fà\u001eëãäí\u001eìïîã\u001fí\u001dîíáëë\u0010ãî\u001f\u001eí\u001dë\u0010à\n",
      "p !0\u001b01û\u001büó ñ/üôõþ/ýðÿô þ.ÿþòüü!ôÿ /þ.ü!ñ\n"
     ]
    }
   ],
   "source": [
    "flag = \"dcebcmebecamcmanaedbacdaanafagapdaaoabaaafdbapdpaaapadanandcafaadbdaapdpandcac\"\n",
    "dec = ''\n",
    "for key in ALPHABET:\n",
    "    dec = \"\"\n",
    "    for c in flag:\n",
    "        dec += shift(c, key)\n",
    "    b16 = b16_decode(dec)\n",
    "    print(key,b16)"
   ]
  },
  {
   "cell_type": "code",
   "execution_count": null,
   "metadata": {},
   "outputs": [],
   "source": []
  }
 ],
 "metadata": {
  "kernelspec": {
   "display_name": "Python 3",
   "language": "python",
   "name": "python3"
  },
  "language_info": {
   "codemirror_mode": {
    "name": "ipython",
    "version": 3
   },
   "file_extension": ".py",
   "mimetype": "text/x-python",
   "name": "python",
   "nbconvert_exporter": "python",
   "pygments_lexer": "ipython3",
   "version": "3.10.5"
  },
  "orig_nbformat": 4
 },
 "nbformat": 4,
 "nbformat_minor": 2
}
