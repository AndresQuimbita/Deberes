{
 "cells": [
  {
   "cell_type": "markdown",
   "metadata": {},
   "source": [
    "## Computer Security\n",
    "### Homework 2\n",
    "\n",
    "## Exercise 1:\n",
    "\n",
    "1. Suppose a password is chosen as a concatenation of seven lower-case dictionary words. Each word is selected uniformly at random from a dictionary of size 50,000. An example of such a password is \"mothercathousefivenextcrossroom\". How many bits of entropy does this have?\n",
    "\n",
    "2. Consider an alternative scheme where a password is chosen as a sequence of 10 random alphanumeric characters (including both lower-case and upper-case letters). An example is \"dA3mG67Rrs\". How many bits of entropy does this have?\n",
    "\n",
    "3. Which password is better, the one from 1. or 2.?"
   ]
  },
  {
   "cell_type": "markdown",
   "metadata": {},
   "source": [
    "1. \n",
    "Ebits = log_2(50000^7)\n",
    "\n",
    "Ebits = log_2(7.8125x10^32)\n",
    "\n",
    "Ebits = 109.27"
   ]
  },
  {
   "cell_type": "code",
   "execution_count": 5,
   "metadata": {},
   "outputs": [
    {
     "data": {
      "text/plain": [
       "109.26748332105768"
      ]
     },
     "execution_count": 5,
     "metadata": {},
     "output_type": "execute_result"
    }
   ],
   "source": [
    "import math\n",
    "char = 50000\n",
    "len_pass = 7\n",
    "\n",
    "entropy = math.log(char**len_pass, 2)\n",
    "entropy"
   ]
  },
  {
   "cell_type": "markdown",
   "metadata": {},
   "source": [
    "2.\n",
    "\n",
    "char = 62 (between lower and upper case, and numbers)\n",
    "\n",
    "len_passs = 10\n",
    "\n",
    "Entropy = 59.54\n",
    "\n"
   ]
  },
  {
   "cell_type": "code",
   "execution_count": 4,
   "metadata": {},
   "outputs": [
    {
     "data": {
      "text/plain": [
       "59.54196310386876"
      ]
     },
     "execution_count": 4,
     "metadata": {},
     "output_type": "execute_result"
    }
   ],
   "source": [
    "import math\n",
    "char = 62\n",
    "len_pass = 10\n",
    "\n",
    "entropy = math.log(char**len_pass, 2)\n",
    "entropy"
   ]
  },
  {
   "cell_type": "code",
   "execution_count": 14,
   "metadata": {},
   "outputs": [],
   "source": [
    "import numpy as np"
   ]
  },
  {
   "cell_type": "code",
   "execution_count": 19,
   "metadata": {},
   "outputs": [
    {
     "data": {
      "text/plain": [
       "0.1807861430054266"
      ]
     },
     "execution_count": 19,
     "metadata": {},
     "output_type": "execute_result"
    }
   ],
   "source": [
    "#a)\n",
    "(-1/26 * np.log2(1/26))"
   ]
  },
  {
   "cell_type": "code",
   "execution_count": 18,
   "metadata": {},
   "outputs": [
    {
     "data": {
      "text/plain": [
       "0.10962384073348254"
      ]
     },
     "execution_count": 18,
     "metadata": {},
     "output_type": "execute_result"
    }
   ],
   "source": [
    "#b)\n",
    "(-1/52 * math.log(1/52, 2))"
   ]
  },
  {
   "cell_type": "code",
   "execution_count": 10,
   "metadata": {},
   "outputs": [
    {
     "data": {
      "text/plain": [
       "0.0915817290811887"
      ]
     },
     "execution_count": 10,
     "metadata": {},
     "output_type": "execute_result"
    }
   ],
   "source": [
    "#c)\n",
    "-1/66 * math.log(1/66, 2)"
   ]
  },
  {
   "cell_type": "code",
   "execution_count": null,
   "metadata": {},
   "outputs": [],
   "source": [
    "#d) If the entropy is bigger, so the password is more secure."
   ]
  },
  {
   "cell_type": "markdown",
   "metadata": {},
   "source": [
    "3.\n",
    "\n",
    "The second password has more entropy, it's more difficult to use force brute to know the first password. E1 > E2 => 0.00218 < 0.960 "
   ]
  },
  {
   "cell_type": "markdown",
   "metadata": {},
   "source": [
    "\n",
    "## Exercise 2:\n",
    "\n",
    "1. Design a data verification system using hash functions. Explain the steps involved in the process.\n",
    "2. Discuss the advantages and disadvantages of using hash functions for data verification.\n",
    "3. Provide an example of a real-world application where a data verification system using hash functions is used."
   ]
  },
  {
   "cell_type": "markdown",
   "metadata": {},
   "source": [
    "***1)***\n",
    "\n",
    "<span style=\"color:orange\">***STEPS***</span>.\n",
    "\n",
    "1. The plaintext is hashing by the hash function and generates the hash value, it's a fixed-size hash value.\n",
    "2. The sender sends the message and the hash value to the receiver.\n",
    "3. The receiver use the same hash function to generate its own hash value of the message. \n",
    "4. The receiver's hash value is compared with the sender's hash value, if this two match, so the message is correct, ensuring the data integrity.\n",
    "\n",
    "***2)***\n",
    "\n",
    "<span style=\"color:orange\">***Advantages***</span>.\n",
    "\n",
    "- Keeps data integrity. If the message is modified, the hash value changes and the message is not correct. \n",
    "- It's efficient because the hash function generates a fixed-size value that could be compare easier.\n",
    "- Computationally fast.\n",
    "- Hash Functions minimizes the chance that two message generates the same hash value.\n",
    "\n",
    "<span style=\"color:orange\">***Disadvantages***</span>.\n",
    "\n",
    "- No involve keys, and that makes the lack to handle authentication and non-repudiation.\n",
    "- Only generates a hash for the message but we can't verify the sender.\n",
    "- Hash functions are sensitive to even the smallest changes in the input data. if minor changes in the data are expected like formmat, the hash could change and the message modified.\n",
    "\n",
    "***3)***\n",
    "\n",
    "Download an Image Operative System\n",
    "- The developer of the file generate a hash of the original ackage that is upload in the web. \n",
    "- The hash is pubished and the package to download too.\n",
    "- The user downloas the package and can generate the hash of the package.\n",
    "- Compare the generate hash and the one in the official website.\n",
    "- If the hashes match, the package is secure. If not, the package is not secure to install in the computer.\n"
   ]
  },
  {
   "cell_type": "markdown",
   "metadata": {},
   "source": [
    "## Exercise 3:\n",
    "\n",
    "1. Define what a Message Authentication Code (MAC) is and how it is used in cryptography.\n",
    "2. Explain the process of generating and verifying a MAC.\n",
    "3. Discuss the importance of using MACs in secure communication systems."
   ]
  },
  {
   "cell_type": "markdown",
   "metadata": {},
   "source": [
    "1. Message Authentication Code is a encrypted checksum applied to a message to guarantee the integrity and authentication of the message. In cryptography, it's used to vetify if a message was modified during the transmition or if is generated by the correct manager. With this, let the authentication of the messages, users and give protection against spoofing attacks. The MAC is generated by a secrer key and a message.\n",
    "\n",
    "2. The process to generate:\n",
    "    1. Generate a secret key that only the sender and receiver know. The message is generated.\n",
    "\n",
    "    2. A hash function is chosen to generate the MAC. This function takes as input the message and the secret key and produce a fixed-size hash value.\n",
    "     \n",
    "    3. The MAC is generated and it's sent with the message to the receiver.\n",
    "\n",
    "3. \n",
    "\n",
    "- Using MACs let to keep the integrity of the data, if the message is modify, when the MAC is generated by the receiver and does not match, so the message was modified, and MAC found it.\n",
    "\n",
    "- Allows the receiver to authenticate the sender. If the MAC does not match with the one generated with the secret key, so the sender is not trustworthy.\n",
    "\n",
    "- MACs require a secret key shared between communicating parties. This key, if kept secure, ensures the security of the MAC. \n",
    "\n",
    "- MACs when combined with timestamps or sequence numbers prevent replay attacks."
   ]
  },
  {
   "cell_type": "markdown",
   "metadata": {},
   "source": [
    "## Exercise 4:\n",
    "\n",
    "Given the values of p = 17 and q = 23, generate a pair of keys for RSA."
   ]
  },
  {
   "cell_type": "code",
   "execution_count": 40,
   "metadata": {},
   "outputs": [],
   "source": [
    "def modInverse(A, M):\n",
    "     \n",
    "    for X in range(1, M):\n",
    "        if (((A % M) * (X % M)) % M == 1):\n",
    "            return X\n",
    "    return -1"
   ]
  },
  {
   "cell_type": "code",
   "execution_count": 55,
   "metadata": {},
   "outputs": [],
   "source": [
    "import random\n",
    "def private_key(p, q):\n",
    "    n = p * q\n",
    "    \n",
    "    m = (p - 1) * (q - 1)\n",
    "        \n",
    "    while True:\n",
    "        t = random.randint(2, (p - 1) * (q - 1) - 1)\n",
    "        m = (p - 1) * (q - 1)\n",
    "        e = t\n",
    "        while m != 0:\n",
    "            t, m = m, t % m\n",
    "        if t == 1:\n",
    "            break\n",
    "    \n",
    "    \n",
    "    d = modInverse(e, (p - 1) * (q - 1))\n",
    "    \n",
    "    return (n, e, d)\n",
    "    \n",
    "\n"
   ]
  },
  {
   "cell_type": "code",
   "execution_count": 56,
   "metadata": {},
   "outputs": [
    {
     "name": "stdout",
     "output_type": "stream",
     "text": [
      "(391, 13, 325)\n",
      "The public key is (391, 13)\n",
      "The private key is (391, 325)\n"
     ]
    }
   ],
   "source": [
    "keys = private_key(17,23)\n",
    "print(keys)\n",
    "print(str.format(\"The public key is ({0}, {1})\",keys[0],keys[1]))\n",
    "print(str.format(\"The private key is ({0}, {1})\",keys[0],keys[2]))"
   ]
  },
  {
   "cell_type": "markdown",
   "metadata": {},
   "source": [
    "## Exercise 5:\n",
    "\n",
    "1. Design a public key infrastructure (PKI) system. Explain the components and their roles in the system.\n",
    "2. Discuss the advantages and challenges of implementing a PKI system.\n",
    "3. Provide an example of a real-world application where a PKI system is used."
   ]
  },
  {
   "attachments": {
    "image.png": {
     "image/png": "[encoded data removed]"
    }
   },
   "cell_type": "markdown",
   "metadata": {},
   "source": [
    "***1)***\n",
    "\n",
    "![image.png](attachment:image.png)\n",
    "\n",
    "***2)***\n",
    "\n",
    "*Advantages*\n",
    "\n",
    "- Gives a high security level to send encrypted messages between two users.\n",
    "\n",
    "- Authentication in the communication between the correct sender and receiver. Use of digital certificates.\n",
    "\n",
    "- Protection against tampering of the messages. Receiver can identify if a message is modify during the time that the message was traveling.\n",
    "\n",
    "- Validation of data with digital signatures.\n",
    "\n",
    "- A good infraestructure to generate, manage and distribute the keys.\n",
    "\n",
    "*Challenges*\n",
    "\n",
    "- Difficult in the implementation of the structure. \n",
    "\n",
    "- A high cost to mantain the PKI, with capacitation, resources and a continuos manage.\n",
    "\n",
    "- Scalability while more keys are generated, more difficult in the manage of the keys and distribution without errors. And the same with the validate certificates that the PKI generates to each user, more users more difficult to ensure that the user receive the correct certificate.\n",
    "\n",
    "***3)***\n",
    "\n",
    "A online bank.\n",
    "\n",
    "- The portal of login for the user has digital certificates to ensure that the user is register, so when user logs in, the server return de certificate of the user and the web browser verifies if the certificate using a CA public key.\n",
    "\n",
    "- When the user wants to do a transaction the web browser encrypts the transaction usign the bank's public key, and the other bank desencrypt the using the private key. \n",
    "\n",
    "- During the transmition of the message, a digital signature is generated from the message using the private key of the bank that send the message and only the key can decrypt it, so the transaction is not deny. "
   ]
  },
  {
   "cell_type": "markdown",
   "metadata": {},
   "source": [
    "## Exercise 6:\n",
    "\n",
    "Design a system for digital signatures based on public-key cryptography. Explain the steps involved in the process and the role of each component."
   ]
  },
  {
   "cell_type": "markdown",
   "metadata": {},
   "source": [
    "<span style=\"color:orange\">***COMPONENTS***</span>.\n",
    "\n",
    "- Key Pair Generator: This generate the public key that all the user are going to use openly and a private key that is use to desencrypt messages and sign with digital signatures.\n",
    "\n",
    "    * Public key = Key used by everyone and is used to veify digital sigantures. Used by the receiver.\n",
    "\n",
    "    * Private key = Key that is a secret and generate the digital signatures. Used by the sender.\n",
    "\n",
    "- Hash Function.\n",
    "\n",
    "    * A secure hash function like SHA256 that creates a fixed-size hash value of the message to ensure the data integrity.\n",
    "\n",
    "<span style=\"color:orange\">***STEPS***</span>.\n",
    "\n",
    "\n",
    "1. The message generates a hash with the hash function.\n",
    "2. The private key of the sender generated a digital signature with the hash generated. \n",
    "3. The message and the digital signature is sent to the receiver.\n",
    "4. The receiver use the same hash function and use it in the message that was sent by the seder.\n",
    "5. The hash value is generated by the receiver.\n",
    "6. The receiver use the public key of the sender to desencrypt the digistal signature.\n",
    "7. Compares the hash that the receiver generates with the one that was desencrypted. If both hashes match, so the message was not modified."
   ]
  }
 ],
 "metadata": {
  "kernelspec": {
   "display_name": "Python 3",
   "language": "python",
   "name": "python3"
  },
  "language_info": {
   "codemirror_mode": {
    "name": "ipython",
    "version": 3
   },
   "file_extension": ".py",
   "mimetype": "text/x-python",
   "name": "python",
   "nbconvert_exporter": "python",
   "pygments_lexer": "ipython3",
   "version": "3.10.5"
  }
 },
 "nbformat": 4,
 "nbformat_minor": 2
}
